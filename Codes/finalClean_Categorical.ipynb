{
 "cells": [
  {
   "cell_type": "markdown",
   "metadata": {},
   "source": [
    "# DATA CLEANSING FOR SOME \"CATEGORICAL\" VARIABLES"
   ]
  },
  {
   "cell_type": "markdown",
   "metadata": {},
   "source": [
    "> functions to replace nulls by last item:"
   ]
  },
  {
   "cell_type": "code",
   "execution_count": 1,
   "metadata": {},
   "outputs": [],
   "source": [
    "# v2\n",
    "# inSeries has to be inputted in ascendent order\n",
    "def take_first_back_or_zero(inGroup):\n",
    "    wrongData = inGroup[ np.isnan(inGroup) ]\n",
    "    k = 0\n",
    "    for index,value in wrongData.iteritems():\n",
    "        backData = inGroup.iloc[ 0:inGroup.index.get_loc(index) ]\n",
    "        if backData.empty:\n",
    "            inGroup.loc[ index ] = 0\n",
    "#             out[k,:] = np.array([index , 0])\n",
    "        else:\n",
    "            inGroup.loc[ index ] = backData.iloc[-1]\n",
    "#             out[k,:] = np.array([index , backData.iloc[-1]])\n",
    "#         k += 1\n",
    "    return inGroup\n",
    "\n",
    "# tardó 40mins para la variable VAR = 'mora_max'"
   ]
  },
  {
   "cell_type": "code",
   "execution_count": 2,
   "metadata": {},
   "outputs": [],
   "source": [
    "def first_back_or_zero(dataframe):\n",
    "    # data cleansing: null to np.nan\n",
    "    dataframe[VAR] = pd.to_numeric( dataframe[VAR] , downcast = 'float' )\n",
    "\n",
    "    # triming negative values\n",
    "    dataframe[VAR] = dataframe[VAR].clip(lower = 0)\n",
    "\n",
    "    # replacing np.nan for last value or zero\n",
    "    wrongCli = dataframe[ np.isnan(df[VAR]) ]['id_cli'].unique()\n",
    "    newDataVAR = dataframe[dataframe.id_cli.isin( wrongCli ) ].sort_values(by='periodo').groupby('id_cli')[VAR].apply(take_first_back_or_zero)\n",
    "\n",
    "    # assing new values to original dataframe\n",
    "    dataframe.iloc[newDataVAR.index.values , dataframe.columns.get_loc(VAR) ] = newDataVAR.values\n",
    "    return dataframe"
   ]
  },
  {
   "cell_type": "markdown",
   "metadata": {},
   "source": [
    "> function to convert categorical to numerical based on distance to median of gasto_familiar clustered by data of pandemia 202004:"
   ]
  },
  {
   "cell_type": "code",
   "execution_count": 3,
   "metadata": {},
   "outputs": [],
   "source": [
    "def cat_to_num_by_pandemia(dataframe):\n",
    "    # > prepandemia:\n",
    "\n",
    "    medianaGF_ac = dataframe[dataframe.periodo < fecha_pandemia ].gasto_familiar.median()\n",
    "    print(medianaGF_ac)\n",
    "\n",
    "    # # getting new values for each category\n",
    "    medianaVAR = dataframe[dataframe.periodo < fecha_pandemia ].groupby(VAR)['gasto_familiar'].median()\n",
    "    rangoVAR =  np.abs(medianaVAR.max()) - np.abs(medianaVAR.min())\n",
    "    newCat = ( medianaVAR - medianaGF_ac ) / (rangoVAR)\n",
    "    print(newCat)\n",
    "\n",
    "    # replacing new values\n",
    "    ix = dataframe[ dataframe['periodo'] < (fecha_pandemia) ].index.values\n",
    "    dataframe.loc[ix] = dataframe.loc[ ix ].replace( { VAR : dict(newCat) } )\n",
    "\n",
    "    # > pospandemia:\n",
    "\n",
    "    medianaGF_dc = dataframe[dataframe.periodo >= fecha_pandemia ].gasto_familiar.median()\n",
    "    print(medianaGF_dc)\n",
    "\n",
    "    # getting new values for each category\n",
    "    medianaVAR = dataframe[dataframe.periodo >= fecha_pandemia ].groupby(VAR)['gasto_familiar'].median()\n",
    "    rangoVAR =  np.abs(medianaVAR.max()) - np.abs(medianaVAR.min())\n",
    "    newCat = ( medianaVAR - medianaGF_ac ) / (rangoVAR)\n",
    "    print(newCat)\n",
    "\n",
    "    # replacing new values\n",
    "    ix = dataframe[ dataframe['periodo'] >= (fecha_pandemia) ].index.values\n",
    "    dataframe.loc[ix] = dataframe.loc[ ix ].replace( { VAR : dict(newCat) } )\n",
    "    \n",
    "    return dataframe"
   ]
  },
  {
   "cell_type": "markdown",
   "metadata": {},
   "source": [
    "## Reading periodo, id_cli and gasto_familiar:"
   ]
  },
  {
   "cell_type": "code",
   "execution_count": 9,
   "metadata": {},
   "outputs": [
    {
     "name": "stdout",
     "output_type": "stream",
     "text": [
      "<class 'pandas.core.frame.DataFrame'>\n",
      "RangeIndex: 20988748 entries, 0 to 20988747\n",
      "Data columns (total 3 columns):\n",
      " #   Column          Dtype  \n",
      "---  ------          -----  \n",
      " 0   periodo         int64  \n",
      " 1   id_cli          int64  \n",
      " 2   gasto_familiar  float64\n",
      "dtypes: float64(1), int64(2)\n",
      "memory usage: 480.4 MB\n",
      "None\n"
     ]
    }
   ],
   "source": [
    "import numpy as np\n",
    "import pandas as pd\n",
    "\n",
    "headers = pd.read_csv( './../Data/Dataton_train/header.txt' , sep= ',', header=None,encoding='utf-8')\n",
    "headers = headers.values.tolist()[0]\n",
    "\n",
    "fieldsToSelect = ['periodo', 'id_cli' ,'gasto_familiar']\n",
    "\n",
    "df = pd.read_csv('./../Data/Dataton_train/Dataton_train_semicolon.csv',\n",
    "                 header = None,  names=headers, sep=';', #iterator=True, chunksize=1000000,\n",
    "                 skipinitialspace=True, usecols=fieldsToSelect, na_values='\\\\N')\n",
    "\n",
    "# See the keys\n",
    "print( df.info() )"
   ]
  },
  {
   "cell_type": "markdown",
   "metadata": {},
   "source": [
    "# > sección :\n",
    "**Vamos a hacer un análisis de cada variable categórica en dos etapas: prepandemia y pospandemia:**\n",
    "## (x) cat_ingreso\n",
    "## (x) tipo_vivienda"
   ]
  },
  {
   "cell_type": "code",
   "execution_count": 10,
   "metadata": {},
   "outputs": [],
   "source": [
    "## removing last variables\n",
    "\n",
    "# df.drop('cat_ingreso', inplace=True, axis=1)"
   ]
  },
  {
   "cell_type": "markdown",
   "metadata": {},
   "source": [
    "> reading data for specific variable:"
   ]
  },
  {
   "cell_type": "code",
   "execution_count": 11,
   "metadata": {},
   "outputs": [],
   "source": [
    "import numpy as np\n",
    "import pandas as pd\n",
    "\n",
    "VAR = ['tipo_vivienda']\n",
    "\n",
    "\n",
    "headers = pd.read_csv( './../Data/Dataton_train/header.txt' , sep= ',', header=None,encoding='utf-8')\n",
    "headers = headers.values.tolist()[0]\n",
    "\n",
    "df[ VAR[0] ] = pd.read_csv('./../Data/Dataton_train/Dataton_train_semicolon.csv',\n",
    "                 header = None,  names=headers, sep=';', #iterator=True, chunksize=1000000,\n",
    "                 skipinitialspace=True, usecols=VAR, na_values='\\\\N')"
   ]
  },
  {
   "cell_type": "code",
   "execution_count": 12,
   "metadata": {},
   "outputs": [],
   "source": [
    "# selecting variable\n",
    "VAR = VAR[0]"
   ]
  },
  {
   "cell_type": "code",
   "execution_count": 13,
   "metadata": {},
   "outputs": [
    {
     "name": "stdout",
     "output_type": "stream",
     "text": [
      "402000.0\n",
      "tipo_vivienda\n",
      "ALQUILADA     0.461319\n",
      "FAMILIAR      0.490601\n",
      "NO INFORMA    0.029727\n",
      "PROPIA        1.029727\n",
      "Name: gasto_familiar, dtype: float64\n",
      "485518.41\n",
      "tipo_vivienda\n",
      "ALQUILADA     2.142506\n",
      "FAMILIAR      2.412522\n",
      "NO INFORMA    1.612806\n",
      "PROPIA        2.612806\n",
      "Name: gasto_familiar, dtype: float64\n"
     ]
    }
   ],
   "source": [
    "fecha_pandemia = 202004\n",
    "df = cat_to_num_by_pandemia(df)\n",
    "df = first_back_or_zero(df)"
   ]
  },
  {
   "cell_type": "code",
   "execution_count": 14,
   "metadata": {},
   "outputs": [
    {
     "name": "stdout",
     "output_type": "stream",
     "text": [
      "listo: tipo_vivienda\n"
     ]
    }
   ],
   "source": [
    "# save new data into new file\n",
    "output_folder = './../Data/DataCleaned/'\n",
    "compression_opts = dict(method='zip', archive_name = VAR + '.csv')  \n",
    "\n",
    "df[VAR].to_csv( output_folder + VAR + '.zip', sep=';', header = True, index=False, compression=compression_opts) \n",
    "\n",
    "print('listo: {}'.format(VAR) )"
   ]
  },
  {
   "cell_type": "code",
   "execution_count": 15,
   "metadata": {},
   "outputs": [],
   "source": [
    "# mora_max: TODO EMPEZÓ A LAS 1506h - 1508h (22 mins)\n",
    "# cant_moras_90_ult_12_meses: TODO EMPEZÓ A LAS 1550 - 1620 (30 mins)\n",
    "# cant_mora_30_tdc_ult_3m_sf: 1622h - 1640h (18mins)\n",
    "# cat_ingreso: 1746h - 1850h (~1h)\n",
    "# tipo_vivienda: 1854h - \n",
    "# \n",
    "# POR CADA 30% DE NULOS, TARDA 30MINS EN LLENARSE"
   ]
  }
 ],
 "metadata": {
  "kernelspec": {
   "display_name": "Python 3",
   "language": "python",
   "name": "python3"
  },
  "language_info": {
   "codemirror_mode": {
    "name": "ipython",
    "version": 3
   },
   "file_extension": ".py",
   "mimetype": "text/x-python",
   "name": "python",
   "nbconvert_exporter": "python",
   "pygments_lexer": "ipython3",
   "version": "3.6.9"
  }
 },
 "nbformat": 4,
 "nbformat_minor": 4
}
