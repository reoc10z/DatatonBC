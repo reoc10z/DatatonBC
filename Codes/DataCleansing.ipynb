{
 "cells": [
  {
   "cell_type": "markdown",
   "metadata": {},
   "source": [
    "# below code removes extra commas in column K related to profession:\n",
    "the output file will have the same name as the input, but including '_' at the start"
   ]
  },
  {
   "cell_type": "code",
   "execution_count": 23,
   "metadata": {},
   "outputs": [
    {
     "name": "stdout",
     "output_type": "stream",
     "text": [
      "ready: _Dataton_train_4.csv\n",
      "ready: _Dataton_train_5.csv\n",
      "ready: _Dataton_train_6.csv\n",
      "ready: _Dataton_train_7.csv\n",
      "ready: _Dataton_train_8.csv\n",
      "ready: _Dataton_train_9.csv\n",
      "ready: _Dataton_train_10.csv\n",
      "ready: _Dataton_train_11.csv\n"
     ]
    }
   ],
   "source": [
    "input_file_header = './../header.txt'\n",
    "input_folder = './../Data/Dataton_train/Splitted/'\n",
    "input_file_data_lista = [\n",
    "    'Dataton_train_4.csv', 'Dataton_train_5.csv', 'Dataton_train_6.csv', 'Dataton_train_7.csv',\n",
    "    'Dataton_train_8.csv', 'Dataton_train_9.csv', 'Dataton_train_10.csv', 'Dataton_train_11.csv'\n",
    "    ]\n",
    "\n",
    "output_folder = './../Data/Dataton_train/Splitted/'\n",
    "\n",
    "for ix,input_file_data in enumerate(input_file_data_lista):\n",
    "    output_file = \"_\"+input_file_data\n",
    "    \n",
    "    # create file\n",
    "    text_file = open(output_folder + output_file, \"w\")\n",
    "    n = text_file.write(\"\")\n",
    "    text_file.close()\n",
    "\n",
    "    # open file to append string\n",
    "    text_file = open(output_folder + output_file, \"wt\")\n",
    "\n",
    "    outputString = \"\"\n",
    "    with open(input_folder+input_file_data) as fp:\n",
    "        line = fp.readline()\n",
    "        cnt = 0\n",
    "        while line:\n",
    "            # correcting length of lines by extra commas\n",
    "            stringLength = line.count(',')\n",
    "            if stringLength > 64:\n",
    "                nDiff = stringLength - 64\n",
    "                lineL = list(line)\n",
    "                count = 0\n",
    "                for ix, val in enumerate(lineL):\n",
    "                    if val == ',':\n",
    "                        if count > 6 and count <= 6 + nDiff:\n",
    "                            lineL[ix] = \"-\"\n",
    "                        count += 1\n",
    "                line = \"\".join(lineL)\n",
    "            # append to output\n",
    "            outputString = outputString + line\n",
    "            # read next line\n",
    "            line = fp.readline()\n",
    "            cnt += 1\n",
    "            # write into file every 10.000 lines\n",
    "            if (cnt > 10000):\n",
    "                n = text_file.write(outputString)\n",
    "                outputString = \"\"\n",
    "\n",
    "    # close file at the end\n",
    "    text_file.close()\n",
    "    print('ready: {}'.format(output_file))"
   ]
  },
  {
   "cell_type": "markdown",
   "metadata": {},
   "source": [
    "# I will read data in every dataset file to save them in the expected format"
   ]
  },
  {
   "cell_type": "code",
   "execution_count": 25,
   "metadata": {},
   "outputs": [],
   "source": [
    "import numpy as np\n",
    "import pandas as pd\n",
    "from os.path import join"
   ]
  },
  {
   "cell_type": "code",
   "execution_count": 26,
   "metadata": {},
   "outputs": [],
   "source": [
    "input_file_data = '_Dataton_train_1.csv'\n",
    "input_file_header = './../header.txt'\n",
    "input_folder = './../Data/Dataton_train/Splitted/'"
   ]
  },
  {
   "cell_type": "code",
   "execution_count": null,
   "metadata": {
    "scrolled": true
   },
   "outputs": [],
   "source": [
    "df = pd.read_csv( input_folder + input_file_data, header = None, sep =\",\")"
   ]
  },
  {
   "cell_type": "code",
   "execution_count": null,
   "metadata": {},
   "outputs": [],
   "source": []
  },
  {
   "cell_type": "code",
   "execution_count": null,
   "metadata": {},
   "outputs": [],
   "source": []
  },
  {
   "cell_type": "code",
   "execution_count": null,
   "metadata": {},
   "outputs": [],
   "source": []
  }
 ],
 "metadata": {
  "kernelspec": {
   "display_name": "Python 3",
   "language": "python",
   "name": "python3"
  },
  "language_info": {
   "codemirror_mode": {
    "name": "ipython",
    "version": 3
   },
   "file_extension": ".py",
   "mimetype": "text/x-python",
   "name": "python",
   "nbconvert_exporter": "python",
   "pygments_lexer": "ipython3",
   "version": "3.6.9"
  }
 },
 "nbformat": 4,
 "nbformat_minor": 4
}
