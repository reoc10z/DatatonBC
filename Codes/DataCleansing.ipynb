{
 "cells": [
  {
   "cell_type": "markdown",
   "metadata": {},
   "source": [
    "# below code removes extra commas in column K related to profession:"
   ]
  },
  {
   "cell_type": "code",
   "execution_count": null,
   "metadata": {},
   "outputs": [],
   "source": [
    "input_file_data = 'Dataton_train_1.csv'\n",
    "input_file_header = './../header.txt'\n",
    "input_folder = './../Data/Dataton_train/Splitted/'\n",
    "\n",
    "\n",
    "output_folder = './../Data/Dataton_train/Splitted/'\n",
    "output_file = 'test.csv'\n",
    "\n",
    "# create file\n",
    "text_file = open(output_folder + output_file, \"w\")\n",
    "n = text_file.write(\"\")\n",
    "text_file.close()\n",
    "\n",
    "# open file to append string\n",
    "text_file = open(output_folder + output_file, \"wt\")\n",
    "\n",
    "outputString = \"\"\n",
    "with open(input_folder+input_file_data) as fp:\n",
    "    line = fp.readline()\n",
    "    cnt = 0\n",
    "    while line:\n",
    "        # correcting length of lines by extra commas\n",
    "        stringLength = line.count(',')\n",
    "        if stringLength > 64:\n",
    "            nDiff = stringLength - 64\n",
    "            lineL = list(line)\n",
    "            count = 0\n",
    "            for ix, val in enumerate(lineL):\n",
    "                if val == ',':\n",
    "                    if count > 6 and count <= 6 + nDiff:\n",
    "                        lineL[ix] = \"-\"\n",
    "                    count += 1\n",
    "            line = \"\".join(lineL)\n",
    "        # append to output\n",
    "        outputString = outputString + line\n",
    "        # read next line\n",
    "        line = fp.readline()\n",
    "        cnt += 1\n",
    "        # write into file every 10.000 lines\n",
    "        if (cnt > 10000):\n",
    "            n = text_file.write(outputString)\n",
    "            outputString = \"\"\n",
    "\n",
    "# close file at the end\n",
    "text_file.close()\n",
    "print('end')"
   ]
  },
  {
   "cell_type": "markdown",
   "metadata": {},
   "source": [
    "# I will read data in every dataset file to save them in the expected format"
   ]
  },
  {
   "cell_type": "code",
   "execution_count": 9,
   "metadata": {},
   "outputs": [],
   "source": [
    "import numpy as np\n",
    "import pandas as pd\n",
    "from os.path import join"
   ]
  },
  {
   "cell_type": "code",
   "execution_count": 10,
   "metadata": {},
   "outputs": [],
   "source": [
    "input_file_data = 'test.csv'\n",
    "input_file_header = './../header.txt'\n",
    "input_folder = './../Data/Dataton_train/Splitted/'"
   ]
  },
  {
   "cell_type": "code",
   "execution_count": 11,
   "metadata": {
    "scrolled": true
   },
   "outputs": [
    {
     "name": "stderr",
     "output_type": "stream",
     "text": [
      "/usr/local/lib/python3.6/dist-packages/IPython/core/interactiveshell.py:3051: DtypeWarning: Columns (3,29,30,32,58) have mixed types.Specify dtype option on import or set low_memory=False.\n",
      "  interactivity=interactivity, compiler=compiler, result=result)\n"
     ]
    }
   ],
   "source": [
    "df = pd.read_csv( input_folder + input_file_data, header = None, sep =\",\")"
   ]
  },
  {
   "cell_type": "code",
   "execution_count": null,
   "metadata": {},
   "outputs": [],
   "source": []
  },
  {
   "cell_type": "code",
   "execution_count": null,
   "metadata": {},
   "outputs": [],
   "source": []
  },
  {
   "cell_type": "code",
   "execution_count": null,
   "metadata": {},
   "outputs": [],
   "source": []
  }
 ],
 "metadata": {
  "kernelspec": {
   "display_name": "Python 3",
   "language": "python",
   "name": "python3"
  },
  "language_info": {
   "codemirror_mode": {
    "name": "ipython",
    "version": 3
   },
   "file_extension": ".py",
   "mimetype": "text/x-python",
   "name": "python",
   "nbconvert_exporter": "python",
   "pygments_lexer": "ipython3",
   "version": "3.6.9"
  }
 },
 "nbformat": 4,
 "nbformat_minor": 4
}
