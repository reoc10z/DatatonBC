{
 "cells": [
  {
   "cell_type": "markdown",
   "metadata": {},
   "source": [
    "# I will split the big file Dataton_train.csv of 10GB into files up to 1GB each"
   ]
  },
  {
   "cell_type": "code",
   "execution_count": null,
   "metadata": {},
   "outputs": [],
   "source": [
    "from fsplit.filesplit import Filesplit # documentation: https://pypi.org/project/filesplit/"
   ]
  },
  {
   "cell_type": "code",
   "execution_count": 67,
   "metadata": {},
   "outputs": [],
   "source": [
    "input_file_data = 'Dataton_train.csv'\n",
    "input_file_header = 'header.txt'\n",
    "input_folder = './../Data/Dataton_train/'\n",
    "\n",
    "output_folder = './../Data/Dataton_train/Splitted/'\n",
    "output_file = 'data_train.csv'"
   ]
  },
  {
   "cell_type": "code",
   "execution_count": 69,
   "metadata": {
    "scrolled": true
   },
   "outputs": [
    {
     "name": "stdout",
     "output_type": "stream",
     "text": [
      "file: ./../Data/Dataton_train/Splitted/Dataton_train_1.csv, size: 940000000\n",
      "file: ./../Data/Dataton_train/Splitted/Dataton_train_2.csv, size: 940000000\n",
      "file: ./../Data/Dataton_train/Splitted/Dataton_train_3.csv, size: 940000000\n",
      "file: ./../Data/Dataton_train/Splitted/Dataton_train_4.csv, size: 940000000\n",
      "file: ./../Data/Dataton_train/Splitted/Dataton_train_5.csv, size: 940000000\n",
      "file: ./../Data/Dataton_train/Splitted/Dataton_train_6.csv, size: 940000000\n",
      "file: ./../Data/Dataton_train/Splitted/Dataton_train_7.csv, size: 940000000\n",
      "file: ./../Data/Dataton_train/Splitted/Dataton_train_8.csv, size: 940000000\n",
      "file: ./../Data/Dataton_train/Splitted/Dataton_train_9.csv, size: 940000000\n",
      "file: ./../Data/Dataton_train/Splitted/Dataton_train_10.csv, size: 940000000\n",
      "file: ./../Data/Dataton_train/Splitted/Dataton_train_11.csv, size: 42263523\n"
     ]
    }
   ],
   "source": [
    "fs = Filesplit()\n",
    "\n",
    "def split_cb(f, s):\n",
    "    print(\"file: {0}, size: {1}\".format(f, s))\n",
    "\n",
    "# split_size in bytes\n",
    "fs.split(file=input_folder + input_file_data, split_size=940000000, output_dir=output_folder, callback=split_cb)"
   ]
  },
  {
   "cell_type": "code",
   "execution_count": null,
   "metadata": {},
   "outputs": [],
   "source": []
  }
 ],
 "metadata": {
  "kernelspec": {
   "display_name": "Python 3",
   "language": "python",
   "name": "python3"
  },
  "language_info": {
   "codemirror_mode": {
    "name": "ipython",
    "version": 3
   },
   "file_extension": ".py",
   "mimetype": "text/x-python",
   "name": "python",
   "nbconvert_exporter": "python",
   "pygments_lexer": "ipython3",
   "version": "3.6.9"
  }
 },
 "nbformat": 4,
 "nbformat_minor": 4
}
