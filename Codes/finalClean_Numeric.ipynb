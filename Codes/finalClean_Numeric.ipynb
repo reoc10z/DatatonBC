{
 "cells": [
  {
   "cell_type": "markdown",
   "metadata": {},
   "source": [
    "# DATA CLEANSING FOR SOME \"NUMERICAL\" VARIABLES"
   ]
  },
  {
   "cell_type": "markdown",
   "metadata": {},
   "source": [
    "* Functions to replace nulls by last item:"
   ]
  },
  {
   "cell_type": "code",
   "execution_count": 1,
   "metadata": {},
   "outputs": [],
   "source": [
    "# v2\n",
    "# inSeries has to be inputted in ascendent order\n",
    "def take_first_back_or_zero(inGroup):\n",
    "    wrongData = inGroup[ np.isnan(inGroup) ]\n",
    "    k = 0\n",
    "    for index,value in wrongData.iteritems():\n",
    "        backData = inGroup.iloc[ 0:inGroup.index.get_loc(index) ]\n",
    "        if backData.empty:\n",
    "            inGroup.loc[ index ] = 0\n",
    "#             out[k,:] = np.array([index , 0])\n",
    "        else:\n",
    "            inGroup.loc[ index ] = backData.iloc[-1]\n",
    "#             out[k,:] = np.array([index , backData.iloc[-1]])\n",
    "#         k += 1\n",
    "    return inGroup\n",
    "\n",
    "# tardó 40mins para la variable VAR = 'mora_max'"
   ]
  },
  {
   "cell_type": "code",
   "execution_count": 2,
   "metadata": {},
   "outputs": [],
   "source": [
    "def first_back_or_zero(dataframe):\n",
    "    # replacing np.nan for last value or zero\n",
    "    wrongCli = dataframe[ np.isnan(df[VAR]) ]['id_cli'].unique()\n",
    "    newDataVAR = dataframe[dataframe.id_cli.isin( wrongCli ) ].sort_values(by='periodo').groupby('id_cli')[VAR].apply(take_first_back_or_zero)\n",
    "\n",
    "    # assing new values to original dataframe\n",
    "    dataframe.iloc[newDataVAR.index.values , dataframe.columns.get_loc(VAR) ] = newDataVAR.values\n",
    "    return dataframe"
   ]
  },
  {
   "cell_type": "code",
   "execution_count": null,
   "metadata": {},
   "outputs": [],
   "source": [
    "def tofloat_and_no_negatives(dataframe):\n",
    "# data cleansing: null to np.nan\n",
    "    dataframe[VAR] = pd.to_numeric( dataframe[VAR] , downcast = 'float' )\n",
    "\n",
    "    # triming negative values\n",
    "    dataframe[VAR] = dataframe[VAR].clip(lower = 0)\n",
    "    return dataframe"
   ]
  },
  {
   "cell_type": "markdown",
   "metadata": {},
   "source": [
    "## Reading periodo and id_cli:"
   ]
  },
  {
   "cell_type": "code",
   "execution_count": 1,
   "metadata": {},
   "outputs": [
    {
     "name": "stdout",
     "output_type": "stream",
     "text": [
      "<class 'pandas.core.frame.DataFrame'>\n",
      "RangeIndex: 20988748 entries, 0 to 20988747\n",
      "Data columns (total 2 columns):\n",
      " #   Column   Dtype\n",
      "---  ------   -----\n",
      " 0   periodo  int64\n",
      " 1   id_cli   int64\n",
      "dtypes: int64(2)\n",
      "memory usage: 320.3 MB\n",
      "None\n"
     ]
    }
   ],
   "source": [
    "import numpy as np\n",
    "import pandas as pd\n",
    "\n",
    "headers = pd.read_csv( './../Data/Dataton_train/header.txt' , sep= ',', header=None,encoding='utf-8')\n",
    "headers = headers.values.tolist()[0]\n",
    "\n",
    "fieldsToSelect = ['periodo', 'id_cli']\n",
    "\n",
    "df = pd.read_csv('./../Data/Dataton_train/Dataton_train_semicolon.csv',\n",
    "                 header = None,  names=headers, sep=';', #iterator=True, chunksize=1000000,\n",
    "                 skipinitialspace=True, usecols=fieldsToSelect, na_values='\\\\N')\n",
    "\n",
    "# See the keys\n",
    "print( df.info() )"
   ]
  },
  {
   "cell_type": "markdown",
   "metadata": {},
   "source": [
    "# > Sección\n",
    "## (x) mora_max\n",
    "## (x) cant_moras_90_ult_12_meses\n",
    "## (x) cant_mora_30_tdc_ult_3m_sf\n",
    "## (x) cant_mora_30_consum_ult_3m_sf\n",
    "## (x) cant_oblig_tot_sf\n",
    "## ( ) ind\n",
    "## (x) ctas_activas\n",
    "## (x) nro_tot_cuentas\n",
    "## (x) ctas_embargadas"
   ]
  },
  {
   "cell_type": "code",
   "execution_count": 15,
   "metadata": {},
   "outputs": [],
   "source": [
    "## removing last variables\n",
    "\n",
    "# df.drop('ctas_activas', inplace=True, axis=1)"
   ]
  },
  {
   "cell_type": "markdown",
   "metadata": {},
   "source": [
    "> reading data for specific variable:"
   ]
  },
  {
   "cell_type": "code",
   "execution_count": 16,
   "metadata": {},
   "outputs": [],
   "source": [
    "import numpy as np\n",
    "import pandas as pd\n",
    "\n",
    "VAR = ['ind']\n",
    "\n",
    "\n",
    "headers = pd.read_csv( './../Data/Dataton_train/header.txt' , sep= ',', header=None,encoding='utf-8')\n",
    "headers = headers.values.tolist()[0]\n",
    "\n",
    "df[ VAR[0] ] = pd.read_csv('./../Data/Dataton_train/Dataton_train_semicolon.csv',\n",
    "                 header = None,  names=headers, sep=';', #iterator=True, chunksize=1000000,\n",
    "                 skipinitialspace=True, usecols=VAR, na_values='\\\\N')"
   ]
  },
  {
   "cell_type": "code",
   "execution_count": 17,
   "metadata": {},
   "outputs": [],
   "source": [
    "# selecting variable\n",
    "VAR = VAR[0]"
   ]
  },
  {
   "cell_type": "code",
   "execution_count": 20,
   "metadata": {},
   "outputs": [],
   "source": [
    "df = tofloat_and_no_negatives(df)\n",
    "df = first_back_or_zero(df)"
   ]
  },
  {
   "cell_type": "code",
   "execution_count": 8,
   "metadata": {},
   "outputs": [
    {
     "name": "stdout",
     "output_type": "stream",
     "text": [
      "listo: ind\n"
     ]
    }
   ],
   "source": [
    "# save new data into new file\n",
    "output_folder = './../Data/DataCleaned/'\n",
    "compression_opts = dict(method='zip', archive_name = VAR + '.csv')  \n",
    "\n",
    "df[VAR].to_csv( output_folder + VAR + '.zip', sep=';', header = True, index=False, compression=compression_opts) \n",
    "\n",
    "print('listo: {}'.format(VAR) )"
   ]
  },
  {
   "cell_type": "code",
   "execution_count": 9,
   "metadata": {},
   "outputs": [],
   "source": [
    "# mora_max: TODO EMPEZÓ A LAS 1506h - 1508h (22 mins)\n",
    "# cant_moras_90_ult_12_meses: TODO EMPEZÓ A LAS 1550 - 1620 (30 mins)\n",
    "# cant_mora_30_tdc_ult_3m_sf: 1622h - 1640h (18mins)"
   ]
  },
  {
   "cell_type": "markdown",
   "metadata": {},
   "source": [
    "# extra code tests:"
   ]
  },
  {
   "cell_type": "code",
   "execution_count": 2,
   "metadata": {},
   "outputs": [
    {
     "data": {
      "text/html": [
       "<div>\n",
       "<style scoped>\n",
       "    .dataframe tbody tr th:only-of-type {\n",
       "        vertical-align: middle;\n",
       "    }\n",
       "\n",
       "    .dataframe tbody tr th {\n",
       "        vertical-align: top;\n",
       "    }\n",
       "\n",
       "    .dataframe thead th {\n",
       "        text-align: right;\n",
       "    }\n",
       "</style>\n",
       "<table border=\"1\" class=\"dataframe\">\n",
       "  <thead>\n",
       "    <tr style=\"text-align: right;\">\n",
       "      <th></th>\n",
       "      <th>periodo</th>\n",
       "      <th>id_cli</th>\n",
       "    </tr>\n",
       "  </thead>\n",
       "  <tbody>\n",
       "    <tr>\n",
       "      <th>0</th>\n",
       "      <td>201908</td>\n",
       "      <td>2089776</td>\n",
       "    </tr>\n",
       "    <tr>\n",
       "      <th>1</th>\n",
       "      <td>201909</td>\n",
       "      <td>2089776</td>\n",
       "    </tr>\n",
       "    <tr>\n",
       "      <th>2</th>\n",
       "      <td>201907</td>\n",
       "      <td>2089776</td>\n",
       "    </tr>\n",
       "    <tr>\n",
       "      <th>3</th>\n",
       "      <td>201903</td>\n",
       "      <td>2089776</td>\n",
       "    </tr>\n",
       "    <tr>\n",
       "      <th>4</th>\n",
       "      <td>201911</td>\n",
       "      <td>2089776</td>\n",
       "    </tr>\n",
       "    <tr>\n",
       "      <th>...</th>\n",
       "      <td>...</td>\n",
       "      <td>...</td>\n",
       "    </tr>\n",
       "    <tr>\n",
       "      <th>20988743</th>\n",
       "      <td>201910</td>\n",
       "      <td>2090044</td>\n",
       "    </tr>\n",
       "    <tr>\n",
       "      <th>20988744</th>\n",
       "      <td>202002</td>\n",
       "      <td>2090044</td>\n",
       "    </tr>\n",
       "    <tr>\n",
       "      <th>20988745</th>\n",
       "      <td>201903</td>\n",
       "      <td>2090044</td>\n",
       "    </tr>\n",
       "    <tr>\n",
       "      <th>20988746</th>\n",
       "      <td>202001</td>\n",
       "      <td>2090044</td>\n",
       "    </tr>\n",
       "    <tr>\n",
       "      <th>20988747</th>\n",
       "      <td>202004</td>\n",
       "      <td>2090044</td>\n",
       "    </tr>\n",
       "  </tbody>\n",
       "</table>\n",
       "<p>20988748 rows × 2 columns</p>\n",
       "</div>"
      ],
      "text/plain": [
       "          periodo   id_cli\n",
       "0          201908  2089776\n",
       "1          201909  2089776\n",
       "2          201907  2089776\n",
       "3          201903  2089776\n",
       "4          201911  2089776\n",
       "...           ...      ...\n",
       "20988743   201910  2090044\n",
       "20988744   202002  2090044\n",
       "20988745   201903  2090044\n",
       "20988746   202001  2090044\n",
       "20988747   202004  2090044\n",
       "\n",
       "[20988748 rows x 2 columns]"
      ]
     },
     "execution_count": 2,
     "metadata": {},
     "output_type": "execute_result"
    }
   ],
   "source": [
    "df"
   ]
  },
  {
   "cell_type": "code",
   "execution_count": 6,
   "metadata": {},
   "outputs": [
    {
     "data": {
      "text/html": [
       "<div>\n",
       "<style scoped>\n",
       "    .dataframe tbody tr th:only-of-type {\n",
       "        vertical-align: middle;\n",
       "    }\n",
       "\n",
       "    .dataframe tbody tr th {\n",
       "        vertical-align: top;\n",
       "    }\n",
       "\n",
       "    .dataframe thead th {\n",
       "        text-align: right;\n",
       "    }\n",
       "</style>\n",
       "<table border=\"1\" class=\"dataframe\">\n",
       "  <thead>\n",
       "    <tr style=\"text-align: right;\">\n",
       "      <th></th>\n",
       "      <th>a</th>\n",
       "      <th>b</th>\n",
       "    </tr>\n",
       "  </thead>\n",
       "  <tbody>\n",
       "    <tr>\n",
       "      <th>0</th>\n",
       "      <td>201908</td>\n",
       "      <td>2089776</td>\n",
       "    </tr>\n",
       "    <tr>\n",
       "      <th>1</th>\n",
       "      <td>201909</td>\n",
       "      <td>2089776</td>\n",
       "    </tr>\n",
       "    <tr>\n",
       "      <th>2</th>\n",
       "      <td>201907</td>\n",
       "      <td>2089776</td>\n",
       "    </tr>\n",
       "    <tr>\n",
       "      <th>3</th>\n",
       "      <td>201903</td>\n",
       "      <td>2089776</td>\n",
       "    </tr>\n",
       "    <tr>\n",
       "      <th>4</th>\n",
       "      <td>201911</td>\n",
       "      <td>2089776</td>\n",
       "    </tr>\n",
       "    <tr>\n",
       "      <th>...</th>\n",
       "      <td>...</td>\n",
       "      <td>...</td>\n",
       "    </tr>\n",
       "    <tr>\n",
       "      <th>20988743</th>\n",
       "      <td>201910</td>\n",
       "      <td>2090044</td>\n",
       "    </tr>\n",
       "    <tr>\n",
       "      <th>20988744</th>\n",
       "      <td>202002</td>\n",
       "      <td>2090044</td>\n",
       "    </tr>\n",
       "    <tr>\n",
       "      <th>20988745</th>\n",
       "      <td>201903</td>\n",
       "      <td>2090044</td>\n",
       "    </tr>\n",
       "    <tr>\n",
       "      <th>20988746</th>\n",
       "      <td>202001</td>\n",
       "      <td>2090044</td>\n",
       "    </tr>\n",
       "    <tr>\n",
       "      <th>20988747</th>\n",
       "      <td>202004</td>\n",
       "      <td>2090044</td>\n",
       "    </tr>\n",
       "  </tbody>\n",
       "</table>\n",
       "<p>20988748 rows × 2 columns</p>\n",
       "</div>"
      ],
      "text/plain": [
       "               a        b\n",
       "0         201908  2089776\n",
       "1         201909  2089776\n",
       "2         201907  2089776\n",
       "3         201903  2089776\n",
       "4         201911  2089776\n",
       "...          ...      ...\n",
       "20988743  201910  2090044\n",
       "20988744  202002  2090044\n",
       "20988745  201903  2090044\n",
       "20988746  202001  2090044\n",
       "20988747  202004  2090044\n",
       "\n",
       "[20988748 rows x 2 columns]"
      ]
     },
     "execution_count": 6,
     "metadata": {},
     "output_type": "execute_result"
    }
   ],
   "source": [
    "df2 = df.copy()\n",
    "df2.columns = ['a', 'b']\n",
    "df2"
   ]
  },
  {
   "cell_type": "code",
   "execution_count": null,
   "metadata": {},
   "outputs": [],
   "source": []
  }
 ],
 "metadata": {
  "kernelspec": {
   "display_name": "Python 3",
   "language": "python",
   "name": "python3"
  },
  "language_info": {
   "codemirror_mode": {
    "name": "ipython",
    "version": 3
   },
   "file_extension": ".py",
   "mimetype": "text/x-python",
   "name": "python",
   "nbconvert_exporter": "python",
   "pygments_lexer": "ipython3",
   "version": "3.6.9"
  }
 },
 "nbformat": 4,
 "nbformat_minor": 4
}
